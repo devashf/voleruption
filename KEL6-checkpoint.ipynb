{
 "cells": [
  {
   "cell_type": "markdown",
   "id": "5a7e122f",
   "metadata": {},
   "source": [
    "# Volcano Eruption\n",
    "## Kelompok 6\n",
    "* Deva Shofa Al Fathin\n",
    "* Ellsya Nabella Nur'allifa\n",
    "* Raihan Taufiqurrahman\n",
    "* Vegatama Firdiady"
   ]
  },
  {
   "cell_type": "code",
   "execution_count": 1,
   "id": "e3d83864",
   "metadata": {},
   "outputs": [],
   "source": [
    "%matplotlib inline\n",
    "import numpy as np\n",
    "import pandas as pd\n",
    "import matplotlib.pyplot as plt\n",
    "import seaborn as sns"
   ]
  },
  {
   "cell_type": "markdown",
   "id": "8a1a6114",
   "metadata": {},
   "source": [
    "## Load Dataset\n",
    "* Data Volcano (dv)\n",
    "* Data Eruption (de)"
   ]
  },
  {
   "cell_type": "code",
   "execution_count": 2,
   "id": "193e3d87",
   "metadata": {},
   "outputs": [],
   "source": [
    "dv = pd.read_csv(\"C:\\\\Users\\\\vegat\\\\Desktop\\\\volcano data\\\\volcano.csv\")\n",
    "de = pd.read_csv(\"C:\\\\Users\\\\vegat\\\\Desktop\\\\volcano data\\\\eruptions.csv\")"
   ]
  },
  {
   "cell_type": "markdown",
   "id": "aecb4706",
   "metadata": {},
   "source": [
    "## Eksplorasi Data Volcano"
   ]
  },
  {
   "cell_type": "code",
   "execution_count": 4,
   "id": "664e940d",
   "metadata": {},
   "outputs": [
    {
     "data": {
      "text/html": [
       "<div>\n",
       "<style scoped>\n",
       "    .dataframe tbody tr th:only-of-type {\n",
       "        vertical-align: middle;\n",
       "    }\n",
       "\n",
       "    .dataframe tbody tr th {\n",
       "        vertical-align: top;\n",
       "    }\n",
       "\n",
       "    .dataframe thead th {\n",
       "        text-align: right;\n",
       "    }\n",
       "</style>\n",
       "<table border=\"1\" class=\"dataframe\">\n",
       "  <thead>\n",
       "    <tr style=\"text-align: right;\">\n",
       "      <th></th>\n",
       "      <th>volcano_number</th>\n",
       "      <th>volcano_name</th>\n",
       "      <th>primary_volcano_type</th>\n",
       "      <th>last_eruption_year</th>\n",
       "      <th>country</th>\n",
       "      <th>region</th>\n",
       "      <th>subregion</th>\n",
       "      <th>latitude</th>\n",
       "      <th>longitude</th>\n",
       "      <th>elevation</th>\n",
       "      <th>...</th>\n",
       "      <th>major_rock_5</th>\n",
       "      <th>minor_rock_1</th>\n",
       "      <th>minor_rock_2</th>\n",
       "      <th>minor_rock_3</th>\n",
       "      <th>minor_rock_4</th>\n",
       "      <th>minor_rock_5</th>\n",
       "      <th>population_within_5_km</th>\n",
       "      <th>population_within_10_km</th>\n",
       "      <th>population_within_30_km</th>\n",
       "      <th>population_within_100_km</th>\n",
       "    </tr>\n",
       "  </thead>\n",
       "  <tbody>\n",
       "    <tr>\n",
       "      <th>953</th>\n",
       "      <td>300242</td>\n",
       "      <td>Zimina</td>\n",
       "      <td>Stratovolcano(es)</td>\n",
       "      <td>Unknown</td>\n",
       "      <td>Russia</td>\n",
       "      <td>Kamchatka and Mainland Asia</td>\n",
       "      <td>Kamchatka Peninsula</td>\n",
       "      <td>55.862</td>\n",
       "      <td>160.603</td>\n",
       "      <td>3057</td>\n",
       "      <td>...</td>\n",
       "      <td></td>\n",
       "      <td></td>\n",
       "      <td></td>\n",
       "      <td></td>\n",
       "      <td></td>\n",
       "      <td></td>\n",
       "      <td>0</td>\n",
       "      <td>0</td>\n",
       "      <td>77</td>\n",
       "      <td>11184</td>\n",
       "    </tr>\n",
       "    <tr>\n",
       "      <th>954</th>\n",
       "      <td>341061</td>\n",
       "      <td>Zitacuaro-Valle de Bravo</td>\n",
       "      <td>Caldera</td>\n",
       "      <td>-3050</td>\n",
       "      <td>Mexico</td>\n",
       "      <td>México and Central America</td>\n",
       "      <td>Mexico</td>\n",
       "      <td>19.400</td>\n",
       "      <td>-100.250</td>\n",
       "      <td>3500</td>\n",
       "      <td>...</td>\n",
       "      <td></td>\n",
       "      <td>Trachyandesite / Basaltic Trachyandesite</td>\n",
       "      <td>Trachybasalt / Tephrite Basanite</td>\n",
       "      <td></td>\n",
       "      <td></td>\n",
       "      <td></td>\n",
       "      <td>231977</td>\n",
       "      <td>231977</td>\n",
       "      <td>490440</td>\n",
       "      <td>4838069</td>\n",
       "    </tr>\n",
       "    <tr>\n",
       "      <th>955</th>\n",
       "      <td>221020</td>\n",
       "      <td>Zubair Group</td>\n",
       "      <td>Shield</td>\n",
       "      <td>2013</td>\n",
       "      <td>Yemen</td>\n",
       "      <td>Africa and Red Sea</td>\n",
       "      <td>Africa (northeastern) and Red Sea</td>\n",
       "      <td>15.050</td>\n",
       "      <td>42.180</td>\n",
       "      <td>191</td>\n",
       "      <td>...</td>\n",
       "      <td></td>\n",
       "      <td></td>\n",
       "      <td></td>\n",
       "      <td></td>\n",
       "      <td></td>\n",
       "      <td></td>\n",
       "      <td>7</td>\n",
       "      <td>7</td>\n",
       "      <td>7</td>\n",
       "      <td>671171</td>\n",
       "    </tr>\n",
       "    <tr>\n",
       "      <th>956</th>\n",
       "      <td>221021</td>\n",
       "      <td>Zukur</td>\n",
       "      <td>Shield</td>\n",
       "      <td>Unknown</td>\n",
       "      <td>Yemen</td>\n",
       "      <td>Africa and Red Sea</td>\n",
       "      <td>Africa (northeastern) and Red Sea</td>\n",
       "      <td>14.020</td>\n",
       "      <td>42.750</td>\n",
       "      <td>624</td>\n",
       "      <td>...</td>\n",
       "      <td></td>\n",
       "      <td></td>\n",
       "      <td></td>\n",
       "      <td></td>\n",
       "      <td></td>\n",
       "      <td></td>\n",
       "      <td>508</td>\n",
       "      <td>922</td>\n",
       "      <td>1075</td>\n",
       "      <td>1472800</td>\n",
       "    </tr>\n",
       "    <tr>\n",
       "      <th>957</th>\n",
       "      <td>327120</td>\n",
       "      <td>Zuni-Bandera</td>\n",
       "      <td>Volcanic field</td>\n",
       "      <td>-1170</td>\n",
       "      <td>United States</td>\n",
       "      <td>Canada and Western USA</td>\n",
       "      <td>USA (New Mexico)</td>\n",
       "      <td>34.800</td>\n",
       "      <td>-108.000</td>\n",
       "      <td>2550</td>\n",
       "      <td>...</td>\n",
       "      <td></td>\n",
       "      <td></td>\n",
       "      <td></td>\n",
       "      <td></td>\n",
       "      <td></td>\n",
       "      <td></td>\n",
       "      <td>18</td>\n",
       "      <td>18</td>\n",
       "      <td>246</td>\n",
       "      <td>54738</td>\n",
       "    </tr>\n",
       "  </tbody>\n",
       "</table>\n",
       "<p>5 rows × 26 columns</p>\n",
       "</div>"
      ],
      "text/plain": [
       "     volcano_number              volcano_name primary_volcano_type  \\\n",
       "953          300242                    Zimina    Stratovolcano(es)   \n",
       "954          341061  Zitacuaro-Valle de Bravo              Caldera   \n",
       "955          221020              Zubair Group               Shield   \n",
       "956          221021                     Zukur               Shield   \n",
       "957          327120              Zuni-Bandera       Volcanic field   \n",
       "\n",
       "    last_eruption_year        country                       region  \\\n",
       "953            Unknown         Russia  Kamchatka and Mainland Asia   \n",
       "954              -3050         Mexico   México and Central America   \n",
       "955               2013          Yemen           Africa and Red Sea   \n",
       "956            Unknown          Yemen           Africa and Red Sea   \n",
       "957              -1170  United States       Canada and Western USA   \n",
       "\n",
       "                             subregion  latitude  longitude  elevation  ...  \\\n",
       "953                Kamchatka Peninsula    55.862    160.603       3057  ...   \n",
       "954                             Mexico    19.400   -100.250       3500  ...   \n",
       "955  Africa (northeastern) and Red Sea    15.050     42.180        191  ...   \n",
       "956  Africa (northeastern) and Red Sea    14.020     42.750        624  ...   \n",
       "957                   USA (New Mexico)    34.800   -108.000       2550  ...   \n",
       "\n",
       "    major_rock_5                              minor_rock_1  \\\n",
       "953                                                          \n",
       "954               Trachyandesite / Basaltic Trachyandesite   \n",
       "955                                                          \n",
       "956                                                          \n",
       "957                                                          \n",
       "\n",
       "                         minor_rock_2 minor_rock_3 minor_rock_4 minor_rock_5  \\\n",
       "953                                                                            \n",
       "954  Trachybasalt / Tephrite Basanite                                          \n",
       "955                                                                            \n",
       "956                                                                            \n",
       "957                                                                            \n",
       "\n",
       "    population_within_5_km population_within_10_km population_within_30_km  \\\n",
       "953                      0                       0                      77   \n",
       "954                 231977                  231977                  490440   \n",
       "955                      7                       7                       7   \n",
       "956                    508                     922                    1075   \n",
       "957                     18                      18                     246   \n",
       "\n",
       "    population_within_100_km  \n",
       "953                    11184  \n",
       "954                  4838069  \n",
       "955                   671171  \n",
       "956                  1472800  \n",
       "957                    54738  \n",
       "\n",
       "[5 rows x 26 columns]"
      ]
     },
     "execution_count": 4,
     "metadata": {},
     "output_type": "execute_result"
    }
   ],
   "source": [
    "dv[-5:]"
   ]
  },
  {
   "cell_type": "code",
   "execution_count": 6,
   "id": "a9e2ea21",
   "metadata": {},
   "outputs": [
    {
     "name": "stdout",
     "output_type": "stream",
     "text": [
      "<class 'pandas.core.frame.DataFrame'>\n",
      "RangeIndex: 958 entries, 0 to 957\n",
      "Data columns (total 26 columns):\n",
      " #   Column                    Non-Null Count  Dtype  \n",
      "---  ------                    --------------  -----  \n",
      " 0   volcano_number            958 non-null    int64  \n",
      " 1   volcano_name              958 non-null    object \n",
      " 2   primary_volcano_type      958 non-null    object \n",
      " 3   last_eruption_year        958 non-null    object \n",
      " 4   country                   958 non-null    object \n",
      " 5   region                    958 non-null    object \n",
      " 6   subregion                 958 non-null    object \n",
      " 7   latitude                  958 non-null    float64\n",
      " 8   longitude                 958 non-null    float64\n",
      " 9   elevation                 958 non-null    int64  \n",
      " 10  tectonic_settings         958 non-null    object \n",
      " 11  evidence_category         958 non-null    object \n",
      " 12  major_rock_1              958 non-null    object \n",
      " 13  major_rock_2              958 non-null    object \n",
      " 14  major_rock_3              958 non-null    object \n",
      " 15  major_rock_4              958 non-null    object \n",
      " 16  major_rock_5              958 non-null    object \n",
      " 17  minor_rock_1              958 non-null    object \n",
      " 18  minor_rock_2              958 non-null    object \n",
      " 19  minor_rock_3              958 non-null    object \n",
      " 20  minor_rock_4              958 non-null    object \n",
      " 21  minor_rock_5              958 non-null    object \n",
      " 22  population_within_5_km    958 non-null    int64  \n",
      " 23  population_within_10_km   958 non-null    int64  \n",
      " 24  population_within_30_km   958 non-null    int64  \n",
      " 25  population_within_100_km  958 non-null    int64  \n",
      "dtypes: float64(2), int64(6), object(18)\n",
      "memory usage: 127.3+ KB\n"
     ]
    }
   ],
   "source": [
    "dv.info()"
   ]
  },
  {
   "cell_type": "markdown",
   "id": "06b0da4e",
   "metadata": {},
   "source": [
    "Dapat dilihat dari dv.info() ada 25 atribut dengan berbagai tipe, Total terdapat 958 baris data dan tidak Ada atribut dengan data null. "
   ]
  },
  {
   "cell_type": "markdown",
   "id": "7e10d407",
   "metadata": {},
   "source": [
    "### Drop data\n",
    "* setelah ditelusuri ada beberapa atribut yang cukup kompleks dan tidak dibutuhkan seperti major rock, minor rock, tectonic setting, juga atribut yang menyatakan kordinat seperti latitude dan longitude."
   ]
  },
  {
   "cell_type": "code",
   "execution_count": 8,
   "id": "f61b9fbb",
   "metadata": {},
   "outputs": [],
   "source": [
    "dv = dv.drop(['major_rock_1','major_rock_2','major_rock_3','major_rock_4','major_rock_5',\n",
    "              'minor_rock_1','minor_rock_2','minor_rock_3','minor_rock_4','minor_rock_5',\n",
    "              'latitude','longitude', 'tectonic_settings'],axis=1)"
   ]
  },
  {
   "cell_type": "code",
   "execution_count": 11,
   "id": "54de8c35",
   "metadata": {},
   "outputs": [
    {
     "data": {
      "text/plain": [
       "Unknown    301\n",
       "2020        46\n",
       "2019        14\n",
       "2018        12\n",
       "2008        10\n",
       "          ... \n",
       "838          1\n",
       "1991         1\n",
       "-9540        1\n",
       "1631         1\n",
       "1630         1\n",
       "Name: last_eruption_year, Length: 342, dtype: int64"
      ]
     },
     "execution_count": 11,
     "metadata": {},
     "output_type": "execute_result"
    }
   ],
   "source": [
    "dv.last_eruption_year.value_counts()"
   ]
  },
  {
   "cell_type": "markdown",
   "id": "2ba73da8",
   "metadata": {},
   "source": [
    "* setelah atribut last_eruption_year di cek terdapat banyak data yang tidak diketahui oleh karena itu atribut tersebut tidak relevan dan harus di drop."
   ]
  },
  {
   "cell_type": "code",
   "execution_count": 12,
   "id": "38558b58",
   "metadata": {},
   "outputs": [],
   "source": [
    "dv = dv.drop(['last_eruption_year'],axis=1)"
   ]
  },
  {
   "cell_type": "markdown",
   "id": "87c17c40",
   "metadata": {},
   "source": [
    "* Di dalam data terdapat 4 atribut yang menyatakan populasi berdasarkan jarak. setelah ditelusuri, atribut pada jarak 5 dan 10 KM tidak dibutuhkan karena dapat diwakilkan dengan atribut 30KM dan Atribut 100 KM tidak dibutuhkan karena berada terlalu jauh dari gunung berapi."
   ]
  },
  {
   "cell_type": "code",
   "execution_count": 15,
   "id": "31a194ea",
   "metadata": {},
   "outputs": [],
   "source": [
    "dv = dv.drop(['population_within_5_km','population_within_10_km','population_within_100_km'],axis=1)"
   ]
  },
  {
   "cell_type": "markdown",
   "id": "0cb5e273",
   "metadata": {},
   "source": [
    "#### info data setelah di drop"
   ]
  },
  {
   "cell_type": "code",
   "execution_count": 16,
   "id": "4d5b87f3",
   "metadata": {},
   "outputs": [
    {
     "name": "stdout",
     "output_type": "stream",
     "text": [
      "<class 'pandas.core.frame.DataFrame'>\n",
      "RangeIndex: 958 entries, 0 to 957\n",
      "Data columns (total 9 columns):\n",
      " #   Column                   Non-Null Count  Dtype \n",
      "---  ------                   --------------  ----- \n",
      " 0   volcano_number           958 non-null    int64 \n",
      " 1   volcano_name             958 non-null    object\n",
      " 2   primary_volcano_type     958 non-null    object\n",
      " 3   country                  958 non-null    object\n",
      " 4   region                   958 non-null    object\n",
      " 5   subregion                958 non-null    object\n",
      " 6   elevation                958 non-null    int64 \n",
      " 7   evidence_category        958 non-null    object\n",
      " 8   population_within_30_km  958 non-null    int64 \n",
      "dtypes: int64(3), object(6)\n",
      "memory usage: 45.0+ KB\n"
     ]
    }
   ],
   "source": [
    "dv.info()"
   ]
  },
  {
   "cell_type": "markdown",
   "id": "6253b569",
   "metadata": {},
   "source": [
    "setelah di drop jumlah atribut menjadi 8"
   ]
  },
  {
   "cell_type": "markdown",
   "id": "4bf48297",
   "metadata": {},
   "source": [
    "### Visualisasi Data"
   ]
  },
  {
   "cell_type": "markdown",
   "id": "07b5e876",
   "metadata": {},
   "source": [
    "#### Tabel Jumlah Gunung Berapi Per-Negara"
   ]
  },
  {
   "cell_type": "code",
   "execution_count": 23,
   "id": "48d21813",
   "metadata": {},
   "outputs": [
    {
     "data": {
      "text/plain": [
       "<AxesSubplot:xlabel='count', ylabel='country'>"
      ]
     },
     "execution_count": 23,
     "metadata": {},
     "output_type": "execute_result"
    },
    {
     "data": {
      "image/png": "[encoded data removed]",
      "text/plain": [
       "<Figure size 432x288 with 1 Axes>"
      ]
     },
     "metadata": {
      "needs_background": "light"
     },
     "output_type": "display_data"
    }
   ],
   "source": [
    "sns.countplot(y=\"country\", data=dv, order = dv.country.value_counts().iloc[:15].index)"
   ]
  },
  {
   "cell_type": "markdown",
   "id": "070c3883",
   "metadata": {},
   "source": [
    "* dari tabel di atas diketahui bahwa Amerika, indonesia, dan jepang memiliki banyak gunung berapi di atas 80 buah. sedangkan rusia dan chilie memiliki gunung berapi di atas 40 buah dan sisanya memiliki gunung berapi di bawah 40 buah."
   ]
  },
  {
   "cell_type": "markdown",
   "id": "d304c90c",
   "metadata": {},
   "source": [
    "#### Tabel Jumlah Populasi di Sekitar Gunung Berapi"
   ]
  },
  {
   "cell_type": "code",
   "execution_count": 66,
   "id": "21e5f190",
   "metadata": {},
   "outputs": [
    {
     "data": {
      "text/plain": [
       "<AxesSubplot:xlabel='population_within_30_km', ylabel='volcano_name'>"
      ]
     },
     "execution_count": 66,
     "metadata": {},
     "output_type": "execute_result"
    },
    {
     "data": {
      "image/png": "[encoded data removed]",
      "text/plain": [
       "<Figure size 432x288 with 1 Axes>"
      ]
     },
     "metadata": {
      "needs_background": "light"
     },
     "output_type": "display_data"
    }
   ],
   "source": [
    "plot_order = dv.groupby(\"volcano_name\")[\"population_within_30_km\"].sum().sort_values(ascending=False).index.values\n",
    "sns.barplot(x = \"population_within_30_km\", y=\"volcano_name\", data=dv, order = plot_order[:15])"
   ]
  },
  {
   "cell_type": "markdown",
   "id": "5b83f567",
   "metadata": {},
   "source": [
    "* Dari tabel di atas dapat disimpulkan bahwa populasi terbanyak dalam jarak 30 Km adalah pada gunung Laguna Caldera, dan ada beberapa gunung di Indonesia juga memiliki populasi yang cukup banyak."
   ]
  },
  {
   "cell_type": "markdown",
   "id": "2aca2c27",
   "metadata": {},
   "source": [
    "## Eksplorasi Data Eruption"
   ]
  },
  {
   "cell_type": "code",
   "execution_count": 49,
   "id": "389be204",
   "metadata": {},
   "outputs": [
    {
     "data": {
      "text/html": [
       "<div>\n",
       "<style scoped>\n",
       "    .dataframe tbody tr th:only-of-type {\n",
       "        vertical-align: middle;\n",
       "    }\n",
       "\n",
       "    .dataframe tbody tr th {\n",
       "        vertical-align: top;\n",
       "    }\n",
       "\n",
       "    .dataframe thead th {\n",
       "        text-align: right;\n",
       "    }\n",
       "</style>\n",
       "<table border=\"1\" class=\"dataframe\">\n",
       "  <thead>\n",
       "    <tr style=\"text-align: right;\">\n",
       "      <th></th>\n",
       "      <th>volcano_number</th>\n",
       "      <th>volcano_name</th>\n",
       "      <th>eruption_number</th>\n",
       "      <th>eruption_category</th>\n",
       "      <th>area_of_activity</th>\n",
       "      <th>vei</th>\n",
       "      <th>start_year</th>\n",
       "      <th>start_month</th>\n",
       "      <th>start_day</th>\n",
       "      <th>evidence_method_dating</th>\n",
       "      <th>end_year</th>\n",
       "      <th>end_month</th>\n",
       "      <th>end_day</th>\n",
       "      <th>latitude</th>\n",
       "      <th>longitude</th>\n",
       "    </tr>\n",
       "  </thead>\n",
       "  <tbody>\n",
       "    <tr>\n",
       "      <th>11173</th>\n",
       "      <td>324020</td>\n",
       "      <td>Craters of the Moon</td>\n",
       "      <td>21101</td>\n",
       "      <td>Confirmed Eruption</td>\n",
       "      <td>Sunset cone</td>\n",
       "      <td>0.0</td>\n",
       "      <td>-10060.0</td>\n",
       "      <td>NaN</td>\n",
       "      <td>NaN</td>\n",
       "      <td>Radiocarbon (uncorrected)</td>\n",
       "      <td>NaN</td>\n",
       "      <td>NaN</td>\n",
       "      <td>NaN</td>\n",
       "      <td>43.420</td>\n",
       "      <td>-113.500</td>\n",
       "    </tr>\n",
       "    <tr>\n",
       "      <th>11174</th>\n",
       "      <td>222161</td>\n",
       "      <td>Igwisi Hills</td>\n",
       "      <td>22141</td>\n",
       "      <td>Confirmed Eruption</td>\n",
       "      <td>NE Volcano</td>\n",
       "      <td>1.0</td>\n",
       "      <td>-10450.0</td>\n",
       "      <td>NaN</td>\n",
       "      <td>NaN</td>\n",
       "      <td>Surface Exposure</td>\n",
       "      <td>NaN</td>\n",
       "      <td>NaN</td>\n",
       "      <td>NaN</td>\n",
       "      <td>-4.889</td>\n",
       "      <td>31.933</td>\n",
       "    </tr>\n",
       "    <tr>\n",
       "      <th>11175</th>\n",
       "      <td>357121</td>\n",
       "      <td>Quetrupillan</td>\n",
       "      <td>22351</td>\n",
       "      <td>Confirmed Eruption</td>\n",
       "      <td>NaN</td>\n",
       "      <td>3.0</td>\n",
       "      <td>-10658.0</td>\n",
       "      <td>NaN</td>\n",
       "      <td>NaN</td>\n",
       "      <td>Radiocarbon (corrected)</td>\n",
       "      <td>NaN</td>\n",
       "      <td>NaN</td>\n",
       "      <td>NaN</td>\n",
       "      <td>-39.496</td>\n",
       "      <td>-71.722</td>\n",
       "    </tr>\n",
       "    <tr>\n",
       "      <th>11176</th>\n",
       "      <td>357121</td>\n",
       "      <td>Quetrupillan</td>\n",
       "      <td>22352</td>\n",
       "      <td>Confirmed Eruption</td>\n",
       "      <td>NaN</td>\n",
       "      <td>3.0</td>\n",
       "      <td>-11345.0</td>\n",
       "      <td>NaN</td>\n",
       "      <td>NaN</td>\n",
       "      <td>Radiocarbon (corrected)</td>\n",
       "      <td>NaN</td>\n",
       "      <td>NaN</td>\n",
       "      <td>NaN</td>\n",
       "      <td>-39.496</td>\n",
       "      <td>-71.722</td>\n",
       "    </tr>\n",
       "    <tr>\n",
       "      <th>11177</th>\n",
       "      <td>390090</td>\n",
       "      <td>Saunders</td>\n",
       "      <td>21099</td>\n",
       "      <td>Confirmed Eruption</td>\n",
       "      <td>NaN</td>\n",
       "      <td>0.0</td>\n",
       "      <td>NaN</td>\n",
       "      <td>NaN</td>\n",
       "      <td>NaN</td>\n",
       "      <td>NaN</td>\n",
       "      <td>NaN</td>\n",
       "      <td>NaN</td>\n",
       "      <td>NaN</td>\n",
       "      <td>-57.800</td>\n",
       "      <td>-26.483</td>\n",
       "    </tr>\n",
       "  </tbody>\n",
       "</table>\n",
       "</div>"
      ],
      "text/plain": [
       "       volcano_number         volcano_name  eruption_number  \\\n",
       "11173          324020  Craters of the Moon            21101   \n",
       "11174          222161         Igwisi Hills            22141   \n",
       "11175          357121         Quetrupillan            22351   \n",
       "11176          357121         Quetrupillan            22352   \n",
       "11177          390090             Saunders            21099   \n",
       "\n",
       "        eruption_category area_of_activity  vei  start_year  start_month  \\\n",
       "11173  Confirmed Eruption      Sunset cone  0.0    -10060.0          NaN   \n",
       "11174  Confirmed Eruption       NE Volcano  1.0    -10450.0          NaN   \n",
       "11175  Confirmed Eruption              NaN  3.0    -10658.0          NaN   \n",
       "11176  Confirmed Eruption              NaN  3.0    -11345.0          NaN   \n",
       "11177  Confirmed Eruption              NaN  0.0         NaN          NaN   \n",
       "\n",
       "       start_day     evidence_method_dating  end_year  end_month  end_day  \\\n",
       "11173        NaN  Radiocarbon (uncorrected)       NaN        NaN      NaN   \n",
       "11174        NaN           Surface Exposure       NaN        NaN      NaN   \n",
       "11175        NaN    Radiocarbon (corrected)       NaN        NaN      NaN   \n",
       "11176        NaN    Radiocarbon (corrected)       NaN        NaN      NaN   \n",
       "11177        NaN                        NaN       NaN        NaN      NaN   \n",
       "\n",
       "       latitude  longitude  \n",
       "11173    43.420   -113.500  \n",
       "11174    -4.889     31.933  \n",
       "11175   -39.496    -71.722  \n",
       "11176   -39.496    -71.722  \n",
       "11177   -57.800    -26.483  "
      ]
     },
     "execution_count": 49,
     "metadata": {},
     "output_type": "execute_result"
    }
   ],
   "source": [
    "de[-5:]"
   ]
  },
  {
   "cell_type": "code",
   "execution_count": 50,
   "id": "c8baf0e1",
   "metadata": {},
   "outputs": [
    {
     "name": "stdout",
     "output_type": "stream",
     "text": [
      "<class 'pandas.core.frame.DataFrame'>\n",
      "RangeIndex: 11178 entries, 0 to 11177\n",
      "Data columns (total 15 columns):\n",
      " #   Column                  Non-Null Count  Dtype  \n",
      "---  ------                  --------------  -----  \n",
      " 0   volcano_number          11178 non-null  int64  \n",
      " 1   volcano_name            11178 non-null  object \n",
      " 2   eruption_number         11178 non-null  int64  \n",
      " 3   eruption_category       11178 non-null  object \n",
      " 4   area_of_activity        4694 non-null   object \n",
      " 5   vei                     8272 non-null   float64\n",
      " 6   start_year              11177 non-null  float64\n",
      " 7   start_month             10985 non-null  float64\n",
      " 8   start_day               10982 non-null  float64\n",
      " 9   evidence_method_dating  9898 non-null   object \n",
      " 10  end_year                4332 non-null   float64\n",
      " 11  end_month               4329 non-null   float64\n",
      " 12  end_day                 4326 non-null   float64\n",
      " 13  latitude                11178 non-null  float64\n",
      " 14  longitude               11178 non-null  float64\n",
      "dtypes: float64(9), int64(2), object(4)\n",
      "memory usage: 1.1+ MB\n"
     ]
    }
   ],
   "source": [
    "de.info()"
   ]
  },
  {
   "cell_type": "markdown",
   "id": "0db551b4",
   "metadata": {},
   "source": [
    "Dapat dilihat dari de.info() ada 14 atribut dengan berbagai tipe, Total terdapat 11178 baris data dan Ada beberapa atribut dengan data null. "
   ]
  },
  {
   "cell_type": "markdown",
   "id": "dfd38b88",
   "metadata": {},
   "source": [
    "### Drop Data"
   ]
  },
  {
   "cell_type": "markdown",
   "id": "5b1074e9",
   "metadata": {},
   "source": [
    "* setelah ditelusuri ada beberapa atribut tidak dibutuhkan seperti 'start_month','start_day','end_year','end_month','end_day' karena sudah dapat diwakilkan oleh start_year dan ckup banyak data tersebut null."
   ]
  },
  {
   "cell_type": "code",
   "execution_count": 51,
   "id": "0ec6807c",
   "metadata": {},
   "outputs": [],
   "source": [
    "de = de.drop(['start_month','start_day','end_year','end_month','end_day'],axis=1)"
   ]
  },
  {
   "cell_type": "markdown",
   "id": "d78094b8",
   "metadata": {},
   "source": [
    "* setelah ditelusuri ada beberapa atribut yang tidak dibutuhkan yaitu yang menyatakan kordinat seperti latitude dan longitude."
   ]
  },
  {
   "cell_type": "code",
   "execution_count": 52,
   "id": "e74f1b5a",
   "metadata": {},
   "outputs": [],
   "source": [
    "de = de.drop(['latitude','longitude'],axis=1)"
   ]
  },
  {
   "cell_type": "markdown",
   "id": "40b7b2d0",
   "metadata": {},
   "source": [
    "##### cek data area_of_activity.value"
   ]
  },
  {
   "cell_type": "code",
   "execution_count": 54,
   "id": "05d4dfa0",
   "metadata": {},
   "outputs": [
    {
     "data": {
      "text/plain": [
       "Naka-dake                                   172\n",
       "Bromo                                        63\n",
       "Ngauruhoe                                    52\n",
       "Mihara-yama                                  47\n",
       "Ohachi                                       45\n",
       "                                           ... \n",
       "South flank (2100-1950 m, M. Calcarazzi)      1\n",
       "West flank (Pico Joao Fernandes)              1\n",
       "NW rift zone (Los Hornitos)                   1\n",
       "Fugen-dake (Kazaana)                          1\n",
       "Norfolk Island Ridge                          1\n",
       "Name: area_of_activity, Length: 2592, dtype: int64"
      ]
     },
     "execution_count": 54,
     "metadata": {},
     "output_type": "execute_result"
    }
   ],
   "source": [
    "de.area_of_activity.value_counts()"
   ]
  },
  {
   "cell_type": "markdown",
   "id": "9457895c",
   "metadata": {},
   "source": [
    "* Dari data atribut tersebut hanya 2000-an data dari 11000-an data yang terisi, oleh karena itu data tersebut tidak valid dan perlu di drop."
   ]
  },
  {
   "cell_type": "code",
   "execution_count": 55,
   "id": "b535cfd8",
   "metadata": {},
   "outputs": [],
   "source": [
    "de = de.drop(['area_of_activity'],axis=1)"
   ]
  },
  {
   "cell_type": "markdown",
   "id": "73a9df77",
   "metadata": {},
   "source": [
    "#### info data setelah di drop"
   ]
  },
  {
   "cell_type": "code",
   "execution_count": 56,
   "id": "329f39b9",
   "metadata": {},
   "outputs": [
    {
     "name": "stdout",
     "output_type": "stream",
     "text": [
      "<class 'pandas.core.frame.DataFrame'>\n",
      "RangeIndex: 11178 entries, 0 to 11177\n",
      "Data columns (total 7 columns):\n",
      " #   Column                  Non-Null Count  Dtype  \n",
      "---  ------                  --------------  -----  \n",
      " 0   volcano_number          11178 non-null  int64  \n",
      " 1   volcano_name            11178 non-null  object \n",
      " 2   eruption_number         11178 non-null  int64  \n",
      " 3   eruption_category       11178 non-null  object \n",
      " 4   vei                     8272 non-null   float64\n",
      " 5   start_year              11177 non-null  float64\n",
      " 6   evidence_method_dating  9898 non-null   object \n",
      "dtypes: float64(2), int64(2), object(3)\n",
      "memory usage: 480.4+ KB\n"
     ]
    }
   ],
   "source": [
    "de.info()"
   ]
  },
  {
   "cell_type": "markdown",
   "id": "8f2814a0",
   "metadata": {},
   "source": [
    "Setelah di drop jumlah atribut menjadi 6."
   ]
  },
  {
   "cell_type": "markdown",
   "id": "fc4af9ed",
   "metadata": {},
   "source": [
    "### Visualisasi Data"
   ]
  },
  {
   "cell_type": "markdown",
   "id": "ed01464b",
   "metadata": {},
   "source": [
    "#### Tabel jumlah erupsi yang terjadi sesuai kategori"
   ]
  },
  {
   "cell_type": "code",
   "execution_count": 58,
   "id": "998d7c15",
   "metadata": {},
   "outputs": [
    {
     "data": {
      "text/plain": [
       "<AxesSubplot:xlabel='eruption_category', ylabel='count'>"
      ]
     },
     "execution_count": 58,
     "metadata": {},
     "output_type": "execute_result"
    },
    {
     "data": {
      "image/png": "[encoded data removed]",
      "text/plain": [
       "<Figure size 432x288 with 1 Axes>"
      ]
     },
     "metadata": {
      "needs_background": "light"
     },
     "output_type": "display_data"
    }
   ],
   "source": [
    "sns.countplot(x=\"eruption_category\", data=de)"
   ]
  },
  {
   "cell_type": "markdown",
   "id": "dfc80f57",
   "metadata": {},
   "source": [
    "* Dari tabel di atas dapat disimpulkan bahwa data erupsi yang terkonfirmasi jumlahnya lebih banyak daripada erupsi yang belum terkonfirmasi dan masih diragukan."
   ]
  },
  {
   "cell_type": "markdown",
   "id": "34fe3a41",
   "metadata": {},
   "source": [
    "#### Tabel data boxplot tahun erupsi"
   ]
  },
  {
   "cell_type": "code",
   "execution_count": 67,
   "id": "6a129108",
   "metadata": {},
   "outputs": [
    {
     "data": {
      "text/plain": [
       "<AxesSubplot:xlabel='start_year'>"
      ]
     },
     "execution_count": 67,
     "metadata": {},
     "output_type": "execute_result"
    },
    {
     "data": {
      "image/png": "[encoded data removed]",
      "text/plain": [
       "<Figure size 432x288 with 1 Axes>"
      ]
     },
     "metadata": {
      "needs_background": "light"
     },
     "output_type": "display_data"
    }
   ],
   "source": [
    "sns.boxplot(x=\"start_year\",data=de)"
   ]
  },
  {
   "cell_type": "markdown",
   "id": "bc75062f",
   "metadata": {},
   "source": [
    "* Dari tabel di atas dapat disimpulkan bahwa ada banyak data yang berada di outerlayer boxplot, hal itu perlu dioptimalisasi agar data valid."
   ]
  },
  {
   "cell_type": "code",
   "execution_count": null,
   "id": "9329f572",
   "metadata": {},
   "outputs": [],
   "source": []
  }
 ],
 "metadata": {
  "kernelspec": {
   "display_name": "Python 3",
   "language": "python",
   "name": "python3"
  },
  "language_info": {
   "codemirror_mode": {
    "name": "ipython",
    "version": 3
   },
   "file_extension": ".py",
   "mimetype": "text/x-python",
   "name": "python",
   "nbconvert_exporter": "python",
   "pygments_lexer": "ipython3",
   "version": "3.8.8"
  }
 },
 "nbformat": 4,
 "nbformat_minor": 5
}
